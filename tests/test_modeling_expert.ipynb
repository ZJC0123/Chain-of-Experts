{
 "cells": [
  {
   "cell_type": "code",
   "execution_count": 2,
   "metadata": {},
   "outputs": [
    {
     "name": "stdout",
     "output_type": "stream",
     "text": [
      "Input\n",
      "Now the origin problem is as follow:\n",
      "A telecom company needs to build a set of cell towers to provide signal coverage for the inhabitants of a given city. A number of potential locations where the towers could be built have been identified. The towers have a fixed range, and due to budget constraints only a limited number of them can be built. Given these restrictions, the company wishes to provide coverage to the largest percentage of the population possible. To simplify the problem, the company has split the area it wishes to cover into a set of regions, each of which has a known population. The goal is then to choose which of the potential locations the company should build cell towers on in order to provide coverage to as many people as possible. Please formulate a mathematical programming model for this problem based on the description above.\n",
      "And the comments from other experts are as follow:\n",
      "There is no comment available, please ignore this section.\n",
      "\n",
      "\n",
      "Give your MIP model of this problem. Additionally, please note that your model needs to be a solvable linear programming model or a mixed-integer programming model. This also means that the expressions of the constraint conditions can only be equal to, greater than or equal to, or less than or equal to (> or < are not allowed to appear and should be replaced to be \\geq or \\leq).\n",
      "\n",
      "Your output format should be a JSON like this:\n",
      "{\n",
      "    \"VARIABLES\": \"A mathematical description about variables\",\n",
      "    \"CONSTRAINS\": \"A mathematical description about constrains\",\n",
      "    \"OBJECTIVE\": \"A mathematical description about objective\"\n",
      "}\n",
      "\n",
      "\n",
      "```json\n",
      "{\n",
      "    \"VARIABLES\": \"Let \\( x_i \\) be a binary variable where \\( x_i = 1 \\) if cell tower is built at location \\( i \\), and \\( x_i = 0 \\) otherwise, for all potential locations \\( i \\in I \\). Let \\( p_j \\) represent the population in region \\( j \\), for all regions \\( j \\in J \\). Let \\( d_{ij} \\) be a binary variable where \\( d_{ij} = 1 \\) if cell tower at location \\( i \\) provides coverage to region \\( j \\), and \\( d_{ij} = 0 \\) otherwise, for all potential locations \\( i \\in I \\) and regions \\( j \\in J \\). Let \\( C \\) be the maximum number of cell towers that can be built.\",\n",
      "    \"CONSTRAINS\": \"1. The total number of cell towers built cannot exceed the budget constraint: \\\\[\\\\sum_{i \\in I} x_i \\leq C\\\\] 2. Each region's coverage is determined by at least one cell tower within its range: For each region \\( j \\in J \\), there exists a location \\( i \\) such that if a cell tower is built at \\( i \\), it provides coverage to \\( j \\\\[\\\\sum_{i \\in I} d_{ij} x_i \\geq 1, \\quad \\forall j \\in J\\\\] 3. A region can only be covered by a cell tower within its range: For each location \\( i \\) and region \\( j \\), if a cell tower is built at \\( i \\), it provides coverage to \\( j \\\\[d_{ij} \\leq x_i, \\quad \\forall i \\in I, \\forall j \\in J\\\\]\",\n",
      "    \"OBJECTIVE\": \"Maximize the total population covered: \\\\[\\\\max \\sum_{j \\in J} p_j \\sum_{i \\in I} d_{ij} x_i\\\\]\"\n",
      "}\n",
      "```\n"
     ]
    }
   ],
   "source": [
    "import sys\n",
    "import os\n",
    "\n",
    "\n",
    "# 获取当前工作目录\n",
    "current_dir = os.getcwd()\n",
    "\n",
    "# 添加项目的根目录到Python路径\n",
    "sys.path.append(os.path.dirname(current_dir))\n",
    "\n",
    "from experts.modeling_expert import ModelingExpert\n",
    "from comment_pool import CommentPool\n",
    "import numpy as np\n",
    "\n",
    "\n",
    "\n",
    "num_experts = 0\n",
    "all_experts = []\n",
    "problem = {\n",
    "    'description': 'A telecom company needs to build a set of cell towers to provide signal coverage for the inhabitants of a given city. A number of potential locations where the towers could be built have been identified. The towers have a fixed range, and due to budget constraints only a limited number of them can be built. Given these restrictions, the company wishes to provide coverage to the largest percentage of the population possible. To simplify the problem, the company has split the area it wishes to cover into a set of regions, each of which has a known population. The goal is then to choose which of the potential locations the company should build cell towers on in order to provide coverage to as many people as possible. Please formulate a mathematical programming model for this problem based on the description above.',\n",
    "}\n",
    "comment_pool = CommentPool(all_experts, visible_matrix=np.ones((num_experts, num_experts)))\n",
    "expert = ModelingExpert('ollama')\n",
    "answer = expert.forward(problem, comment_pool)\n",
    "print(answer)"
   ]
  },
  {
   "cell_type": "code",
   "execution_count": 1,
   "metadata": {},
   "outputs": [
    {
     "ename": "NameError",
     "evalue": "name 'answer' is not defined",
     "output_type": "error",
     "traceback": [
      "\u001b[1;31m---------------------------------------------------------------------------\u001b[0m",
      "\u001b[1;31mNameError\u001b[0m                                 Traceback (most recent call last)",
      "Cell \u001b[1;32mIn[1], line 1\u001b[0m\n\u001b[1;32m----> 1\u001b[0m \u001b[38;5;28mprint\u001b[39m(\u001b[38;5;28mtype\u001b[39m(\u001b[43manswer\u001b[49m))\n",
      "\u001b[1;31mNameError\u001b[0m: name 'answer' is not defined"
     ]
    }
   ],
   "source": [
    "print(type(answer))"
   ]
  },
  {
   "cell_type": "code",
   "execution_count": 5,
   "metadata": {},
   "outputs": [
    {
     "name": "stdout",
     "output_type": "stream",
     "text": [
      "```json\n",
      "{\n",
      "    \"VARIABLES\": \"Let \\( x_i \\) be a binary variable where \\( x_i = 1 \\) if cell tower is built at location \\( i \\), and \\( x_i = 0 \\) otherwise, for all potential locations \\( i \\in I \\). Let \\( p_j \\) represent the population in region \\( j \\), for all regions \\( j \\in J \\). Let \\( d_{ij} \\) be a binary variable where \\( d_{ij} = 1 \\) if cell tower at location \\( i \\) provides coverage to region \\( j \\), and \\( d_{ij} = 0 \\) otherwise, for all potential locations \\( i \\in I \\) and regions \\( j \\in J \\). Let \\( C \\) be the maximum number of cell towers that can be built.\",\n",
      "    \"CONSTRAINS\": \"1. The total number of cell towers built cannot exceed the budget constraint: \\\\[\\\\sum_{i \\in I} x_i \\leq C\\\\] 2. Each region's coverage is determined by at least one cell tower within its range: For each region \\( j \\in J \\), there exists a location \\( i \\) such that if a cell tower is built at \\( i \\), it provides coverage to \\( j \\\\[\\\\sum_{i \\in I} d_{ij} x_i \\geq 1, \\quad \\forall j \\in J\\\\] 3. A region can only be covered by a cell tower within its range: For each location \\( i \\) and region \\( j \\), if a cell tower is built at \\( i \\), it provides coverage to \\( j \\\\[d_{ij} \\leq x_i, \\quad \\forall i \\in I, \\forall j \\in J\\\\]\",\n",
      "    \"OBJECTIVE\": \"Maximize the total population covered: \\\\[\\\\max \\sum_{j \\in J} p_j \\sum_{i \\in I} d_{ij} x_i\\\\]\"\n",
      "}\n",
      "```\n"
     ]
    }
   ],
   "source": [
    "s = answer.replace(' < ', ' \\\\leq ').replace(' > ', ' \\\\geq ')\n",
    "print(s)"
   ]
  },
  {
   "cell_type": "code",
   "execution_count": 2,
   "metadata": {},
   "outputs": [
    {
     "name": "stdout",
     "output_type": "stream",
     "text": [
      "Markdown文件 'modeling_expert.md' 已创建，内容已写入。\n"
     ]
    }
   ],
   "source": [
    "def create_markdown_file(filename, content):\n",
    "    \"\"\"\n",
    "    创建一个Markdown文件并写入内容。\n",
    "\n",
    "    :param filename: 要创建的Markdown文件名（包括.md扩展名）\n",
    "    :param content: 要写入文件的字符串内容\n",
    "    \"\"\"\n",
    "    with open(filename, 'w') as file:\n",
    "        file.write(content)\n",
    "    print(f\"Markdown文件 '{filename}' 已创建，内容已写入。\")\n",
    "\n",
    "create_markdown_file('modeling_expert.md', answer)"
   ]
  }
 ],
 "metadata": {
  "kernelspec": {
   "display_name": "Chain-of-Experts",
   "language": "python",
   "name": "python3"
  },
  "language_info": {
   "codemirror_mode": {
    "name": "ipython",
    "version": 3
   },
   "file_extension": ".py",
   "mimetype": "text/x-python",
   "name": "python",
   "nbconvert_exporter": "python",
   "pygments_lexer": "ipython3",
   "version": "3.12.8"
  }
 },
 "nbformat": 4,
 "nbformat_minor": 2
}
